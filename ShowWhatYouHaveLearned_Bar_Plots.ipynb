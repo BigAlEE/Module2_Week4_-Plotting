{
 "cells": [
  {
   "cell_type": "code",
   "execution_count": 1,
   "id": "aec5797b",
   "metadata": {},
   "outputs": [],
   "source": [
    "import pandas as pd\n",
    "import numpy as np\n",
    "import matplotlib.pyplot as plt\n",
    "import seaborn as sns\n",
    "import plotly.express as px"
   ]
  },
  {
   "cell_type": "code",
   "execution_count": 2,
   "id": "574abc09",
   "metadata": {},
   "outputs": [],
   "source": [
    "#London data for employees\n",
    "\n",
    "data = {\n",
    "    'EmployeeID': [101, 102, 103, 104, 105, 106, 107, 108, 109, 110, 111, 112, 113, 114, 115],\n",
    "    'Name': ['Alice', 'Bob', 'Charlie', 'David', 'Eva', 'Frank', 'Grace', 'Hannah', 'Ivy', 'Jack', 'Kim', 'Liam', 'Megan', 'Nathan', 'Olivia'],\n",
    "    'Department': ['HR', 'Engineering', 'Engineering', 'HR', 'Finance', 'Sales', 'Sales', 'Engineering', 'HR', 'Finance', 'Sales', 'HR', 'Engineering', 'Sales', 'HR'],\n",
    "    'JobTitle': ['Manager', 'Engineer', 'Engineer', 'Clerk', 'Analyst', 'Sales Rep', 'Sales Rep', 'Engineer', 'Clerk', 'Analyst', 'Sales Rep', 'Manager', 'Engineer', 'Sales Rep', 'Clerk'],\n",
    "    'Salary': [75000, 95000, 80000, 50000, 60000, 70000, 72000, 85000, 52000, 62000, 75000, 77000, 80000, 73000, 54000],\n",
    "    'HoursWorked': [40, 45, 40, 38, 42, 40, 38, 45, 39, 41, 42, 40, 44, 39, 38],\n",
    "    'Bonus': [5000, 7000, 3000, 2000, 4000, 5000, 4000, 6000, 2500, 3000, 5500, 4500, 6000, 5000, 2500]\n",
    "}\n",
    "\n",
    "london = pd.DataFrame(data)"
   ]
  },
  {
   "cell_type": "code",
   "execution_count": 3,
   "id": "511afe6b",
   "metadata": {},
   "outputs": [
    {
     "data": {
      "text/html": [
       "<div>\n",
       "<style scoped>\n",
       "    .dataframe tbody tr th:only-of-type {\n",
       "        vertical-align: middle;\n",
       "    }\n",
       "\n",
       "    .dataframe tbody tr th {\n",
       "        vertical-align: top;\n",
       "    }\n",
       "\n",
       "    .dataframe thead th {\n",
       "        text-align: right;\n",
       "    }\n",
       "</style>\n",
       "<table border=\"1\" class=\"dataframe\">\n",
       "  <thead>\n",
       "    <tr style=\"text-align: right;\">\n",
       "      <th></th>\n",
       "      <th>EmployeeID</th>\n",
       "      <th>Name</th>\n",
       "      <th>Department</th>\n",
       "      <th>JobTitle</th>\n",
       "      <th>Salary</th>\n",
       "      <th>HoursWorked</th>\n",
       "      <th>Bonus</th>\n",
       "      <th>TotalCompensation</th>\n",
       "    </tr>\n",
       "  </thead>\n",
       "  <tbody>\n",
       "    <tr>\n",
       "      <th>0</th>\n",
       "      <td>101</td>\n",
       "      <td>Alice</td>\n",
       "      <td>HR</td>\n",
       "      <td>Manager</td>\n",
       "      <td>75000</td>\n",
       "      <td>40</td>\n",
       "      <td>5000</td>\n",
       "      <td>80000</td>\n",
       "    </tr>\n",
       "    <tr>\n",
       "      <th>1</th>\n",
       "      <td>102</td>\n",
       "      <td>Bob</td>\n",
       "      <td>Engineering</td>\n",
       "      <td>Engineer</td>\n",
       "      <td>95000</td>\n",
       "      <td>45</td>\n",
       "      <td>7000</td>\n",
       "      <td>102000</td>\n",
       "    </tr>\n",
       "  </tbody>\n",
       "</table>\n",
       "</div>"
      ],
      "text/plain": [
       "   EmployeeID   Name   Department  JobTitle  Salary  HoursWorked  Bonus  \\\n",
       "0         101  Alice           HR   Manager   75000           40   5000   \n",
       "1         102    Bob  Engineering  Engineer   95000           45   7000   \n",
       "\n",
       "   TotalCompensation  \n",
       "0              80000  \n",
       "1             102000  "
      ]
     },
     "execution_count": 3,
     "metadata": {},
     "output_type": "execute_result"
    }
   ],
   "source": [
    "# Create DataFrame\n",
    "london = pd.DataFrame(data)\n",
    "\n",
    "# Create a new column for total compensation (salary + bonus)\n",
    "london['TotalCompensation'] = london['Salary'] + london['Bonus']\n",
    "london.head(2)\n"
   ]
  },
  {
   "cell_type": "markdown",
   "id": "89d058d7",
   "metadata": {},
   "source": [
    "# Looking at different plotting packages\n",
    "\n",
    "We are not going to deep dive into how to use each package. Each package could be its own pathway with everything that they can do. We will just look at the same data plotted the same way and show how each plots and a little of what they can do."
   ]
  },
  {
   "cell_type": "markdown",
   "id": "cc710623",
   "metadata": {},
   "source": [
    "# pandas plot\n",
    "\n",
    "This is just a basic plotting package that uses a slim version of Matplotlib. The idea is to be able to quickly make plots that you can then transform into better visuals with other packages. They are also useful in a time crunch if you just need a plot. A few easy lines and you're off"
   ]
  },
  {
   "cell_type": "code",
   "execution_count": 4,
   "id": "17efb225",
   "metadata": {},
   "outputs": [
    {
     "data": {
      "image/png": "[encoded data removed]",
      "text/plain": [
       "<Figure size 640x480 with 1 Axes>"
      ]
     },
     "metadata": {},
     "output_type": "display_data"
    }
   ],
   "source": [
    "pandas_plot = london.plot(kind='bar', x='Name', y='TotalCompensation', title='Total Compensation by Employee');\n",
    "pandas_plot.set_xlabel('Employee');\n",
    "pandas_plot.set_ylabel('Total Compensation');"
   ]
  },
  {
   "cell_type": "markdown",
   "id": "c26ba5c2",
   "metadata": {},
   "source": [
    "When we make our plots we want to tell a clear story to the employee and allow them to gain insights. Here we kind of fail at communicationg any real information.\n",
    "\n",
    "- Lets look at the top employee in comparison to the rest.\n",
    "- lets reorder our data\n",
    "- then we will work to isolate the top employee in the bar graph."
   ]
  },
  {
   "cell_type": "code",
   "execution_count": 5,
   "id": "ac213e26",
   "metadata": {},
   "outputs": [
    {
     "data": {
      "text/html": [
       "<div>\n",
       "<style scoped>\n",
       "    .dataframe tbody tr th:only-of-type {\n",
       "        vertical-align: middle;\n",
       "    }\n",
       "\n",
       "    .dataframe tbody tr th {\n",
       "        vertical-align: top;\n",
       "    }\n",
       "\n",
       "    .dataframe thead th {\n",
       "        text-align: right;\n",
       "    }\n",
       "</style>\n",
       "<table border=\"1\" class=\"dataframe\">\n",
       "  <thead>\n",
       "    <tr style=\"text-align: right;\">\n",
       "      <th></th>\n",
       "      <th>EmployeeID</th>\n",
       "      <th>Name</th>\n",
       "      <th>Department</th>\n",
       "      <th>JobTitle</th>\n",
       "      <th>Salary</th>\n",
       "      <th>HoursWorked</th>\n",
       "      <th>Bonus</th>\n",
       "      <th>TotalCompensation</th>\n",
       "    </tr>\n",
       "  </thead>\n",
       "  <tbody>\n",
       "    <tr>\n",
       "      <th>1</th>\n",
       "      <td>102</td>\n",
       "      <td>Bob</td>\n",
       "      <td>Engineering</td>\n",
       "      <td>Engineer</td>\n",
       "      <td>95000</td>\n",
       "      <td>45</td>\n",
       "      <td>7000</td>\n",
       "      <td>102000</td>\n",
       "    </tr>\n",
       "    <tr>\n",
       "      <th>7</th>\n",
       "      <td>108</td>\n",
       "      <td>Hannah</td>\n",
       "      <td>Engineering</td>\n",
       "      <td>Engineer</td>\n",
       "      <td>85000</td>\n",
       "      <td>45</td>\n",
       "      <td>6000</td>\n",
       "      <td>91000</td>\n",
       "    </tr>\n",
       "    <tr>\n",
       "      <th>12</th>\n",
       "      <td>113</td>\n",
       "      <td>Megan</td>\n",
       "      <td>Engineering</td>\n",
       "      <td>Engineer</td>\n",
       "      <td>80000</td>\n",
       "      <td>44</td>\n",
       "      <td>6000</td>\n",
       "      <td>86000</td>\n",
       "    </tr>\n",
       "    <tr>\n",
       "      <th>2</th>\n",
       "      <td>103</td>\n",
       "      <td>Charlie</td>\n",
       "      <td>Engineering</td>\n",
       "      <td>Engineer</td>\n",
       "      <td>80000</td>\n",
       "      <td>40</td>\n",
       "      <td>3000</td>\n",
       "      <td>83000</td>\n",
       "    </tr>\n",
       "    <tr>\n",
       "      <th>11</th>\n",
       "      <td>112</td>\n",
       "      <td>Liam</td>\n",
       "      <td>HR</td>\n",
       "      <td>Manager</td>\n",
       "      <td>77000</td>\n",
       "      <td>40</td>\n",
       "      <td>4500</td>\n",
       "      <td>81500</td>\n",
       "    </tr>\n",
       "  </tbody>\n",
       "</table>\n",
       "</div>"
      ],
      "text/plain": [
       "    EmployeeID     Name   Department  JobTitle  Salary  HoursWorked  Bonus  \\\n",
       "1          102      Bob  Engineering  Engineer   95000           45   7000   \n",
       "7          108   Hannah  Engineering  Engineer   85000           45   6000   \n",
       "12         113    Megan  Engineering  Engineer   80000           44   6000   \n",
       "2          103  Charlie  Engineering  Engineer   80000           40   3000   \n",
       "11         112     Liam           HR   Manager   77000           40   4500   \n",
       "\n",
       "    TotalCompensation  \n",
       "1              102000  \n",
       "7               91000  \n",
       "12              86000  \n",
       "2               83000  \n",
       "11              81500  "
      ]
     },
     "execution_count": 5,
     "metadata": {},
     "output_type": "execute_result"
    }
   ],
   "source": [
    "london = london.sort_values(by='TotalCompensation', ascending=False)\n",
    "london.head()"
   ]
  },
  {
   "cell_type": "code",
   "execution_count": 6,
   "id": "6a1a5c9b",
   "metadata": {},
   "outputs": [
    {
     "data": {
      "image/png": "[encoded data removed]",
      "text/plain": [
       "<Figure size 640x480 with 1 Axes>"
      ]
     },
     "metadata": {},
     "output_type": "display_data"
    }
   ],
   "source": [
    "pandas_plot = london.plot(kind='bar', x='Name', y='TotalCompensation', title='Total Compensation by Employee');\n",
    "pandas_plot.set_xlabel('Employee');\n",
    "pandas_plot.set_ylabel('Total Compensation');"
   ]
  },
  {
   "cell_type": "code",
   "execution_count": 7,
   "id": "ac621d13",
   "metadata": {},
   "outputs": [
    {
     "data": {
      "text/plain": [
       "<Axes: title={'center': 'Total Compensation by Employee'}, xlabel='Employee', ylabel='Total Compensation'>"
      ]
     },
     "execution_count": 7,
     "metadata": {},
     "output_type": "execute_result"
    },
    {
     "data": {
      "image/png": "[encoded data removed]",
      "text/plain": [
       "<Figure size 640x480 with 1 Axes>"
      ]
     },
     "metadata": {},
     "output_type": "display_data"
    }
   ],
   "source": [
    "# Create a color list where Bob gets red and others get blue\n",
    "colors = ['red' if name == 'Bob' else 'blue' for name in london['Name']]\n",
    "\n",
    "# Generate the pandas bar plot\n",
    "pandas_plot = london.plot(kind='bar', x='Name', y='TotalCompensation', color=colors, title='Total Compensation by Employee')\n",
    "\n",
    "# Set labels for x and y axes\n",
    "pandas_plot.set_xlabel('Employee')\n",
    "pandas_plot.set_ylabel('Total Compensation')\n",
    "\n",
    "# Display the plot\n",
    "pandas_plot"
   ]
  },
  {
   "cell_type": "markdown",
   "id": "6f4dba67",
   "metadata": {},
   "source": [
    "# Matplotlib\n",
    "\n",
    "Matplotlib is a powerful and flexible plotting library, and it's often underestimated because of its vast capabilities. While it provides user-friendly interfaces for creating basic plots, it also offers incredible flexibility to create almost any kind of visualization you can imagine. From simple charts to complex figures with customized layouts, Matplotlib allows you to customize every aspect of your plots, giving you full control over visualizations."
   ]
  },
  {
   "cell_type": "code",
   "execution_count": 8,
   "id": "e8867c2a",
   "metadata": {},
   "outputs": [
    {
     "data": {
      "image/png": "[encoded data removed]",
      "text/plain": [
       "<Figure size 1000x600 with 1 Axes>"
      ]
     },
     "metadata": {},
     "output_type": "display_data"
    }
   ],
   "source": [
    "# Create a bar plot for Total Compensation by Employee\n",
    "plt.figure(figsize=(10, 6))\n",
    "plt.bar(london['Name'], london['TotalCompensation'], color = ['red' if name == 'Bob' else 'skyblue' for name in london['Name']], edgecolor='black')\n",
    "\n",
    "# Add labels and title\n",
    "plt.title('Total Compensation by Employee')\n",
    "plt.xlabel('Employee')\n",
    "plt.ylabel('Total Compensation')\n",
    "\n",
    "# Rotate x-axis labels for better readability\n",
    "plt.xticks(rotation=45, ha='right')  # Rotate x-axis labels for better readability\n",
    "\n",
    "# Display the plot\n",
    "plt.tight_layout()  # Adjust layout to fit labels\n",
    "plt.show()"
   ]
  },
  {
   "cell_type": "code",
   "execution_count": 9,
   "id": "5d9d4905",
   "metadata": {},
   "outputs": [],
   "source": [
    "# Add a new column for color grouping\n",
    "london['Color'] = london['Name'].apply(lambda x: 'red' if x == 'Bob' else 'skyblue')"
   ]
  },
  {
   "cell_type": "markdown",
   "id": "e6b1fdea",
   "metadata": {},
   "source": [
    "# Seaborn\n",
    "\n",
    "Seaborn is a powerful data visualization package built on top of Matplotlib that enhances its functionality and provides a more user-friendly interface for creating attractive and informative statistical graphics. It simplifies the creation of complex visualizations, with built-in support for statistical plots and easy integration with Pandas DataFrames.\n",
    "\n",
    "It excels in:\n",
    "\n",
    "- Advanced Statistical Plots: Seaborn makes it easy to create sophisticated statistical plots such as heatmaps, violin plots, pair plots, and regression plots.\n",
    "\n",
    "- Improved Aesthetics: Unlike Matplotlib, which requires more effort for styling, Seaborn comes with beautiful default themes and color palettes, making your plots look polished with minimal customization.\n",
    "\n",
    "- Integration with Pandas: Seaborn works seamlessly with Pandas DataFrames, making it easier to plot data directly without needing to manually manage x and y axes.\n",
    "\n",
    "- Visualizing Complex Relationships: Seaborn shines in visualizing relationships between variables, especially when working with categorical and numerical data.\n",
    "\n",
    "- Facet Grids: It offers an intuitive interface for creating multi-panel plots (faceting), allowing you to compare distributions across multiple categories."
   ]
  },
  {
   "cell_type": "code",
   "execution_count": 10,
   "id": "914f09f1",
   "metadata": {},
   "outputs": [
    {
     "data": {
      "image/png": "[encoded data removed]",
      "text/plain": [
       "<Figure size 1000x600 with 1 Axes>"
      ]
     },
     "metadata": {},
     "output_type": "display_data"
    }
   ],
   "source": [
    "# Set the Seaborn style\n",
    "sns.set_theme(style=\"whitegrid\")\n",
    "\n",
    "# Create the Seaborn barplot with hue based on the new 'Color' column\n",
    "plt.figure(figsize=(10, 6))\n",
    "bar_plot = sns.barplot(x='Name', y='TotalCompensation', data=london, hue='Color', dodge=False, palette=['red', 'skyblue'])\n",
    "\n",
    "# Add labels and title\n",
    "bar_plot.set_title('Total Compensation by Employee', fontsize=16)\n",
    "bar_plot.set_xlabel('Employee', fontsize=12)\n",
    "bar_plot.set_ylabel('Total Compensation', fontsize=12)\n",
    "\n",
    "# Remove the legend\n",
    "bar_plot.legend_.remove()\n",
    "\n",
    "# Rotate x-axis labels for better readability\n",
    "plt.xticks(rotation=45, ha='right')\n",
    "\n",
    "# Display the plot\n",
    "plt.tight_layout()  # Adjust layout to fit labels\n",
    "plt.show()"
   ]
  },
  {
   "cell_type": "markdown",
   "id": "b15f9226",
   "metadata": {},
   "source": [
    "# Plotly\n",
    "\n",
    "Plotly is a sophisticated and powerful data visualization library that stands out for its interactivity and versatility. It is designed to create visually appealing, highly interactive plots and is widely used for both data exploration and presentation. Unlike static plotting libraries like Matplotlib, Plotly offers a rich set of features that enable users to create dynamic, interactive, and responsive charts with just a few lines of code.\n",
    "\n",
    "Key Features of Plotly:\n",
    "\n",
    "- Interactivity: Plotly excels in creating interactive visualizations, allowing users to zoom, pan, hover, and click on data points. This makes it an ideal choice for web-based dashboards and data exploration applications.\n",
    "\n",
    "- Customizability: Plotly offers extensive customization options for every aspect of your visualizations, including colors, fonts, axes, and layout. It gives users fine control over how their charts appear and behave.\n",
    "\n",
    "- Integration with Dash: Plotly integrates seamlessly with Dash, a framework for building interactive web applications. With Dash, you can create custom data dashboards with a wide range of interactive features, ideal for real-time data monitoring and analysis.\n",
    "\n",
    "- Exportability: Plotly charts can be exported as static images or HTML files, making them easy to embed into websites, blogs, or reports. This export flexibility ensures your interactive plots can be shared or published with ease.\n",
    "\n",
    "- Wide Range of Plot Types: From basic charts like line plots and bar plots to advanced charts like 3D plots, heatmaps, choropleth maps, and more, Plotly supports a broad spectrum of visualizations. This makes it suitable for a wide range of industries, from finance to healthcare to scientific research."
   ]
  },
  {
   "cell_type": "code",
   "execution_count": 11,
   "id": "570a3f91",
   "metadata": {},
   "outputs": [
    {
     "data": {
      "application/vnd.plotly.v1+json": {
       "config": {
        "plotlyServerURL": "https://plot.ly"
       },
       "data": [
        {
         "customdata": [
          [
           "red",
           "Engineering",
           "Engineer",
           95000,
           7000
          ]
         ],
         "hovertemplate": "<b>%{hovertext}</b><br><br>TotalCompensation=%{y}<br>Department=%{customdata[1]}<br>JobTitle=%{customdata[2]}<br>Salary=%{customdata[3]}<br>Bonus=%{customdata[4]}<extra></extra>",
         "hovertext": [
          "Bob"
         ],
         "legendgroup": "red",
         "marker": {
          "color": "#636efa",
          "pattern": {
           "shape": ""
          }
         },
         "name": "red",
         "orientation": "v",
         "showlegend": true,
         "textposition": "auto",
         "type": "bar",
         "x": [
          "Bob"
         ],
         "xaxis": "x",
         "y": {
          "bdata": "cI4BAA==",
          "dtype": "i4"
         },
         "yaxis": "y"
        },
        {
         "customdata": [
          [
           "skyblue",
           "Engineering",
           "Engineer",
           85000,
           6000
          ],
          [
           "skyblue",
           "Engineering",
           "Engineer",
           80000,
           6000
          ],
          [
           "skyblue",
           "Engineering",
           "Engineer",
           80000,
           3000
          ],
          [
           "skyblue",
           "HR",
           "Manager",
           77000,
           4500
          ],
          [
           "skyblue",
           "Sales",
           "Sales Rep",
           75000,
           5500
          ],
          [
           "skyblue",
           "HR",
           "Manager",
           75000,
           5000
          ],
          [
           "skyblue",
           "Sales",
           "Sales Rep",
           73000,
           5000
          ],
          [
           "skyblue",
           "Sales",
           "Sales Rep",
           72000,
           4000
          ],
          [
           "skyblue",
           "Sales",
           "Sales Rep",
           70000,
           5000
          ],
          [
           "skyblue",
           "Finance",
           "Analyst",
           62000,
           3000
          ],
          [
           "skyblue",
           "Finance",
           "Analyst",
           60000,
           4000
          ],
          [
           "skyblue",
           "HR",
           "Clerk",
           54000,
           2500
          ],
          [
           "skyblue",
           "HR",
           "Clerk",
           52000,
           2500
          ],
          [
           "skyblue",
           "HR",
           "Clerk",
           50000,
           2000
          ]
         ],
         "hovertemplate": "<b>%{hovertext}</b><br><br>TotalCompensation=%{y}<br>Department=%{customdata[1]}<br>JobTitle=%{customdata[2]}<br>Salary=%{customdata[3]}<br>Bonus=%{customdata[4]}<extra></extra>",
         "hovertext": [
          "Hannah",
          "Megan",
          "Charlie",
          "Liam",
          "Kim",
          "Alice",
          "Nathan",
          "Grace",
          "Frank",
          "Jack",
          "Eva",
          "Olivia",
          "Ivy",
          "David"
         ],
         "legendgroup": "skyblue",
         "marker": {
          "color": "#EF553B",
          "pattern": {
           "shape": ""
          }
         },
         "name": "skyblue",
         "orientation": "v",
         "showlegend": true,
         "textposition": "auto",
         "type": "bar",
         "x": [
          "Hannah",
          "Megan",
          "Charlie",
          "Liam",
          "Kim",
          "Alice",
          "Nathan",
          "Grace",
          "Frank",
          "Jack",
          "Eva",
          "Olivia",
          "Ivy",
          "David"
         ],
         "xaxis": "x",
         "y": {
          "bdata": "eGMBAPBPAQA4RAEAXD4BAHQ6AQCAOAEAsDABAOAoAQD4JAEA6P0AAAD6AAC03AAA5NQAACDLAAA=",
          "dtype": "i4"
         },
         "yaxis": "y"
        }
       ],
       "layout": {
        "barmode": "relative",
        "hoverlabel": {
         "font": {
          "size": 12
         }
        },
        "legend": {
         "title": {
          "text": "Color"
         },
         "tracegroupgap": 0
        },
        "showlegend": false,
        "template": {
         "data": {
          "bar": [
           {
            "error_x": {
             "color": "#2a3f5f"
            },
            "error_y": {
             "color": "#2a3f5f"
            },
            "marker": {
             "line": {
              "color": "#E5ECF6",
              "width": 0.5
             },
             "pattern": {
              "fillmode": "overlay",
              "size": 10,
              "solidity": 0.2
             }
            },
            "type": "bar"
           }
          ],
          "barpolar": [
           {
            "marker": {
             "line": {
              "color": "#E5ECF6",
              "width": 0.5
             },
             "pattern": {
              "fillmode": "overlay",
              "size": 10,
              "solidity": 0.2
             }
            },
            "type": "barpolar"
           }
          ],
          "carpet": [
           {
            "aaxis": {
             "endlinecolor": "#2a3f5f",
             "gridcolor": "white",
             "linecolor": "white",
             "minorgridcolor": "white",
             "startlinecolor": "#2a3f5f"
            },
            "baxis": {
             "endlinecolor": "#2a3f5f",
             "gridcolor": "white",
             "linecolor": "white",
             "minorgridcolor": "white",
             "startlinecolor": "#2a3f5f"
            },
            "type": "carpet"
           }
          ],
          "choropleth": [
           {
            "colorbar": {
             "outlinewidth": 0,
             "ticks": ""
            },
            "type": "choropleth"
           }
          ],
          "contour": [
           {
            "colorbar": {
             "outlinewidth": 0,
             "ticks": ""
            },
            "colorscale": [
             [
              0,
              "#0d0887"
             ],
             [
              0.1111111111111111,
              "#46039f"
             ],
             [
              0.2222222222222222,
              "#7201a8"
             ],
             [
              0.3333333333333333,
              "#9c179e"
             ],
             [
              0.4444444444444444,
              "#bd3786"
             ],
             [
              0.5555555555555556,
              "#d8576b"
             ],
             [
              0.6666666666666666,
              "#ed7953"
             ],
             [
              0.7777777777777778,
              "#fb9f3a"
             ],
             [
              0.8888888888888888,
              "#fdca26"
             ],
             [
              1,
              "#f0f921"
             ]
            ],
            "type": "contour"
           }
          ],
          "contourcarpet": [
           {
            "colorbar": {
             "outlinewidth": 0,
             "ticks": ""
            },
            "type": "contourcarpet"
           }
          ],
          "heatmap": [
           {
            "colorbar": {
             "outlinewidth": 0,
             "ticks": ""
            },
            "colorscale": [
             [
              0,
              "#0d0887"
             ],
             [
              0.1111111111111111,
              "#46039f"
             ],
             [
              0.2222222222222222,
              "#7201a8"
             ],
             [
              0.3333333333333333,
              "#9c179e"
             ],
             [
              0.4444444444444444,
              "#bd3786"
             ],
             [
              0.5555555555555556,
              "#d8576b"
             ],
             [
              0.6666666666666666,
              "#ed7953"
             ],
             [
              0.7777777777777778,
              "#fb9f3a"
             ],
             [
              0.8888888888888888,
              "#fdca26"
             ],
             [
              1,
              "#f0f921"
             ]
            ],
            "type": "heatmap"
           }
          ],
          "histogram": [
           {
            "marker": {
             "pattern": {
              "fillmode": "overlay",
              "size": 10,
              "solidity": 0.2
             }
            },
            "type": "histogram"
           }
          ],
          "histogram2d": [
           {
            "colorbar": {
             "outlinewidth": 0,
             "ticks": ""
            },
            "colorscale": [
             [
              0,
              "#0d0887"
             ],
             [
              0.1111111111111111,
              "#46039f"
             ],
             [
              0.2222222222222222,
              "#7201a8"
             ],
             [
              0.3333333333333333,
              "#9c179e"
             ],
             [
              0.4444444444444444,
              "#bd3786"
             ],
             [
              0.5555555555555556,
              "#d8576b"
             ],
             [
              0.6666666666666666,
              "#ed7953"
             ],
             [
              0.7777777777777778,
              "#fb9f3a"
             ],
             [
              0.8888888888888888,
              "#fdca26"
             ],
             [
              1,
              "#f0f921"
             ]
            ],
            "type": "histogram2d"
           }
          ],
          "histogram2dcontour": [
           {
            "colorbar": {
             "outlinewidth": 0,
             "ticks": ""
            },
            "colorscale": [
             [
              0,
              "#0d0887"
             ],
             [
              0.1111111111111111,
              "#46039f"
             ],
             [
              0.2222222222222222,
              "#7201a8"
             ],
             [
              0.3333333333333333,
              "#9c179e"
             ],
             [
              0.4444444444444444,
              "#bd3786"
             ],
             [
              0.5555555555555556,
              "#d8576b"
             ],
             [
              0.6666666666666666,
              "#ed7953"
             ],
             [
              0.7777777777777778,
              "#fb9f3a"
             ],
             [
              0.8888888888888888,
              "#fdca26"
             ],
             [
              1,
              "#f0f921"
             ]
            ],
            "type": "histogram2dcontour"
           }
          ],
          "mesh3d": [
           {
            "colorbar": {
             "outlinewidth": 0,
             "ticks": ""
            },
            "type": "mesh3d"
           }
          ],
          "parcoords": [
           {
            "line": {
             "colorbar": {
              "outlinewidth": 0,
              "ticks": ""
             }
            },
            "type": "parcoords"
           }
          ],
          "pie": [
           {
            "automargin": true,
            "type": "pie"
           }
          ],
          "scatter": [
           {
            "fillpattern": {
             "fillmode": "overlay",
             "size": 10,
             "solidity": 0.2
            },
            "type": "scatter"
           }
          ],
          "scatter3d": [
           {
            "line": {
             "colorbar": {
              "outlinewidth": 0,
              "ticks": ""
             }
            },
            "marker": {
             "colorbar": {
              "outlinewidth": 0,
              "ticks": ""
             }
            },
            "type": "scatter3d"
           }
          ],
          "scattercarpet": [
           {
            "marker": {
             "colorbar": {
              "outlinewidth": 0,
              "ticks": ""
             }
            },
            "type": "scattercarpet"
           }
          ],
          "scattergeo": [
           {
            "marker": {
             "colorbar": {
              "outlinewidth": 0,
              "ticks": ""
             }
            },
            "type": "scattergeo"
           }
          ],
          "scattergl": [
           {
            "marker": {
             "colorbar": {
              "outlinewidth": 0,
              "ticks": ""
             }
            },
            "type": "scattergl"
           }
          ],
          "scattermap": [
           {
            "marker": {
             "colorbar": {
              "outlinewidth": 0,
              "ticks": ""
             }
            },
            "type": "scattermap"
           }
          ],
          "scattermapbox": [
           {
            "marker": {
             "colorbar": {
              "outlinewidth": 0,
              "ticks": ""
             }
            },
            "type": "scattermapbox"
           }
          ],
          "scatterpolar": [
           {
            "marker": {
             "colorbar": {
              "outlinewidth": 0,
              "ticks": ""
             }
            },
            "type": "scatterpolar"
           }
          ],
          "scatterpolargl": [
           {
            "marker": {
             "colorbar": {
              "outlinewidth": 0,
              "ticks": ""
             }
            },
            "type": "scatterpolargl"
           }
          ],
          "scatterternary": [
           {
            "marker": {
             "colorbar": {
              "outlinewidth": 0,
              "ticks": ""
             }
            },
            "type": "scatterternary"
           }
          ],
          "surface": [
           {
            "colorbar": {
             "outlinewidth": 0,
             "ticks": ""
            },
            "colorscale": [
             [
              0,
              "#0d0887"
             ],
             [
              0.1111111111111111,
              "#46039f"
             ],
             [
              0.2222222222222222,
              "#7201a8"
             ],
             [
              0.3333333333333333,
              "#9c179e"
             ],
             [
              0.4444444444444444,
              "#bd3786"
             ],
             [
              0.5555555555555556,
              "#d8576b"
             ],
             [
              0.6666666666666666,
              "#ed7953"
             ],
             [
              0.7777777777777778,
              "#fb9f3a"
             ],
             [
              0.8888888888888888,
              "#fdca26"
             ],
             [
              1,
              "#f0f921"
             ]
            ],
            "type": "surface"
           }
          ],
          "table": [
           {
            "cells": {
             "fill": {
              "color": "#EBF0F8"
             },
             "line": {
              "color": "white"
             }
            },
            "header": {
             "fill": {
              "color": "#C8D4E3"
             },
             "line": {
              "color": "white"
             }
            },
            "type": "table"
           }
          ]
         },
         "layout": {
          "annotationdefaults": {
           "arrowcolor": "#2a3f5f",
           "arrowhead": 0,
           "arrowwidth": 1
          },
          "autotypenumbers": "strict",
          "coloraxis": {
           "colorbar": {
            "outlinewidth": 0,
            "ticks": ""
           }
          },
          "colorscale": {
           "diverging": [
            [
             0,
             "#8e0152"
            ],
            [
             0.1,
             "#c51b7d"
            ],
            [
             0.2,
             "#de77ae"
            ],
            [
             0.3,
             "#f1b6da"
            ],
            [
             0.4,
             "#fde0ef"
            ],
            [
             0.5,
             "#f7f7f7"
            ],
            [
             0.6,
             "#e6f5d0"
            ],
            [
             0.7,
             "#b8e186"
            ],
            [
             0.8,
             "#7fbc41"
            ],
            [
             0.9,
             "#4d9221"
            ],
            [
             1,
             "#276419"
            ]
           ],
           "sequential": [
            [
             0,
             "#0d0887"
            ],
            [
             0.1111111111111111,
             "#46039f"
            ],
            [
             0.2222222222222222,
             "#7201a8"
            ],
            [
             0.3333333333333333,
             "#9c179e"
            ],
            [
             0.4444444444444444,
             "#bd3786"
            ],
            [
             0.5555555555555556,
             "#d8576b"
            ],
            [
             0.6666666666666666,
             "#ed7953"
            ],
            [
             0.7777777777777778,
             "#fb9f3a"
            ],
            [
             0.8888888888888888,
             "#fdca26"
            ],
            [
             1,
             "#f0f921"
            ]
           ],
           "sequentialminus": [
            [
             0,
             "#0d0887"
            ],
            [
             0.1111111111111111,
             "#46039f"
            ],
            [
             0.2222222222222222,
             "#7201a8"
            ],
            [
             0.3333333333333333,
             "#9c179e"
            ],
            [
             0.4444444444444444,
             "#bd3786"
            ],
            [
             0.5555555555555556,
             "#d8576b"
            ],
            [
             0.6666666666666666,
             "#ed7953"
            ],
            [
             0.7777777777777778,
             "#fb9f3a"
            ],
            [
             0.8888888888888888,
             "#fdca26"
            ],
            [
             1,
             "#f0f921"
            ]
           ]
          },
          "colorway": [
           "#636efa",
           "#EF553B",
           "#00cc96",
           "#ab63fa",
           "#FFA15A",
           "#19d3f3",
           "#FF6692",
           "#B6E880",
           "#FF97FF",
           "#FECB52"
          ],
          "font": {
           "color": "#2a3f5f"
          },
          "geo": {
           "bgcolor": "white",
           "lakecolor": "white",
           "landcolor": "#E5ECF6",
           "showlakes": true,
           "showland": true,
           "subunitcolor": "white"
          },
          "hoverlabel": {
           "align": "left"
          },
          "hovermode": "closest",
          "mapbox": {
           "style": "light"
          },
          "paper_bgcolor": "white",
          "plot_bgcolor": "#E5ECF6",
          "polar": {
           "angularaxis": {
            "gridcolor": "white",
            "linecolor": "white",
            "ticks": ""
           },
           "bgcolor": "#E5ECF6",
           "radialaxis": {
            "gridcolor": "white",
            "linecolor": "white",
            "ticks": ""
           }
          },
          "scene": {
           "xaxis": {
            "backgroundcolor": "#E5ECF6",
            "gridcolor": "white",
            "gridwidth": 2,
            "linecolor": "white",
            "showbackground": true,
            "ticks": "",
            "zerolinecolor": "white"
           },
           "yaxis": {
            "backgroundcolor": "#E5ECF6",
            "gridcolor": "white",
            "gridwidth": 2,
            "linecolor": "white",
            "showbackground": true,
            "ticks": "",
            "zerolinecolor": "white"
           },
           "zaxis": {
            "backgroundcolor": "#E5ECF6",
            "gridcolor": "white",
            "gridwidth": 2,
            "linecolor": "white",
            "showbackground": true,
            "ticks": "",
            "zerolinecolor": "white"
           }
          },
          "shapedefaults": {
           "line": {
            "color": "#2a3f5f"
           }
          },
          "ternary": {
           "aaxis": {
            "gridcolor": "white",
            "linecolor": "white",
            "ticks": ""
           },
           "baxis": {
            "gridcolor": "white",
            "linecolor": "white",
            "ticks": ""
           },
           "bgcolor": "#E5ECF6",
           "caxis": {
            "gridcolor": "white",
            "linecolor": "white",
            "ticks": ""
           }
          },
          "title": {
           "x": 0.05
          },
          "xaxis": {
           "automargin": true,
           "gridcolor": "white",
           "linecolor": "white",
           "ticks": "",
           "title": {
            "standoff": 15
           },
           "zerolinecolor": "white",
           "zerolinewidth": 2
          },
          "yaxis": {
           "automargin": true,
           "gridcolor": "white",
           "linecolor": "white",
           "ticks": "",
           "title": {
            "standoff": 15
           },
           "zerolinecolor": "white",
           "zerolinewidth": 2
          }
         }
        },
        "title": {
         "text": "Total Compensation by Employee"
        },
        "xaxis": {
         "anchor": "y",
         "domain": [
          0,
          1
         ],
         "tickangle": -45,
         "title": {
          "text": "Employee"
         }
        },
        "yaxis": {
         "anchor": "x",
         "domain": [
          0,
          1
         ],
         "title": {
          "text": "Total Compensation"
         }
        }
       }
      }
     },
     "metadata": {},
     "output_type": "display_data"
    }
   ],
   "source": [
    "# Create hover data by combining relevant information into a single string\n",
    "london['HoverInfo'] = london.apply(lambda row: f\"Department: {row['Department']}<br>Job Title: {row['JobTitle']}<br>Salary: ${row['Salary']:,}<br>Bonus: ${row['Bonus']:,}<br>Total Compensation: ${row['TotalCompensation']:,}\", axis=1)\n",
    "\n",
    "# Create the Plotly bar plot\n",
    "fig = px.bar(london,\n",
    "             x='Name',\n",
    "             y='TotalCompensation',\n",
    "             color='Color',\n",
    "             hover_name='Name',\n",
    "             hover_data={'Color': False, 'Name': False, 'Department': True, 'JobTitle': True, 'Salary': True, 'Bonus': True, 'TotalCompensation': True},\n",
    "             title=\"Total Compensation by Employee\")\n",
    "\n",
    "# Update layout for better appearance\n",
    "fig.update_layout(\n",
    "    xaxis_title=\"Employee\",\n",
    "    yaxis_title=\"Total Compensation\",\n",
    "    xaxis_tickangle=-45,\n",
    "    hoverlabel=dict(font_size=12),\n",
    "    showlegend=False\n",
    ")\n",
    "\n",
    "# Show the plot\n",
    "fig.show()"
   ]
  }
 ],
 "metadata": {
  "kernelspec": {
   "display_name": "Python 3",
   "language": "python",
   "name": "python3"
  },
  "language_info": {
   "codemirror_mode": {
    "name": "ipython",
    "version": 3
   },
   "file_extension": ".py",
   "mimetype": "text/x-python",
   "name": "python",
   "nbconvert_exporter": "python",
   "pygments_lexer": "ipython3",
   "version": "3.13.2"
  }
 },
 "nbformat": 4,
 "nbformat_minor": 5
}
